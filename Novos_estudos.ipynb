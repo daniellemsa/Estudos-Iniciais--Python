{
  "nbformat": 4,
  "nbformat_minor": 0,
  "metadata": {
    "colab": {
      "provenance": [],
      "authorship_tag": "ABX9TyPOSkZ8njEsKE1VdYg/wSmv",
      "include_colab_link": true
    },
    "kernelspec": {
      "name": "python3",
      "display_name": "Python 3"
    },
    "language_info": {
      "name": "python"
    }
  },
  "cells": [
    {
      "cell_type": "markdown",
      "metadata": {
        "id": "view-in-github",
        "colab_type": "text"
      },
      "source": [
        "<a href=\"https://colab.research.google.com/github/daniellemsa/Estudos-Iniciais--Python/blob/main/Novos_estudos.ipynb\" target=\"_parent\"><img src=\"https://colab.research.google.com/assets/colab-badge.svg\" alt=\"Open In Colab\"/></a>"
      ]
    },
    {
      "cell_type": "code",
      "source": [
        "import numpy as np\n"
      ],
      "metadata": {
        "id": "u2ZCuQBEJzc1"
      },
      "execution_count": null,
      "outputs": []
    },
    {
      "cell_type": "markdown",
      "source": [
        "## Criando Arrays"
      ],
      "metadata": {
        "id": "b8rn9QktKMp1"
      }
    },
    {
      "cell_type": "code",
      "source": [
        "arr= np.array([1, 2, 3, 4, 5])\n",
        "print('Array criado', arr)"
      ],
      "metadata": {
        "colab": {
          "base_uri": "https://localhost:8080/"
        },
        "id": "wBF53xQoJ4vp",
        "outputId": "5921272a-2b27-4263-9f9b-d63eba4d6f56"
      },
      "execution_count": null,
      "outputs": [
        {
          "output_type": "stream",
          "name": "stdout",
          "text": [
            "Array criado [1 2 3 4 5]\n"
          ]
        }
      ]
    },
    {
      "cell_type": "markdown",
      "source": [
        "Operações Matemáticas"
      ],
      "metadata": {
        "id": "_o-8kIQXKXCR"
      }
    },
    {
      "cell_type": "code",
      "source": [
        "print ('Soma', arr+10)"
      ],
      "metadata": {
        "colab": {
          "base_uri": "https://localhost:8080/"
        },
        "id": "_m6zyXtGKhHg",
        "outputId": "5b559c2c-611b-4e75-dd16-3a3f07690924"
      },
      "execution_count": null,
      "outputs": [
        {
          "output_type": "stream",
          "name": "stdout",
          "text": [
            "Soma [11 12 13 14 15]\n"
          ]
        }
      ]
    },
    {
      "cell_type": "code",
      "source": [
        "print ('Multiplicação', arr * 2)"
      ],
      "metadata": {
        "colab": {
          "base_uri": "https://localhost:8080/"
        },
        "id": "zrbXpoS4KqCF",
        "outputId": "366aa656-c73c-4f93-df66-22691d5a6ac3"
      },
      "execution_count": null,
      "outputs": [
        {
          "output_type": "stream",
          "name": "stdout",
          "text": [
            "Multiplicação [ 2  4  6  8 10]\n"
          ]
        }
      ]
    },
    {
      "cell_type": "code",
      "source": [
        "print ('Média' , np.mean(arr))"
      ],
      "metadata": {
        "colab": {
          "base_uri": "https://localhost:8080/"
        },
        "id": "dpHGG_RTKxVP",
        "outputId": "727ad5d5-2dc1-4bc0-ca63-fadb2baa1533"
      },
      "execution_count": null,
      "outputs": [
        {
          "output_type": "stream",
          "name": "stdout",
          "text": [
            "Média 3.0\n"
          ]
        }
      ]
    },
    {
      "cell_type": "markdown",
      "source": [
        "### Arrays Multidimenaionais- Matrizes"
      ],
      "metadata": {
        "id": "u6JfTgZmLFKr"
      }
    },
    {
      "cell_type": "code",
      "source": [
        "matriz= np.array([[1, 2, 3], [4, 5, 6] ]) #criando matriz 2x3\n",
        "print ('Matriz', matriz)"
      ],
      "metadata": {
        "id": "crjMbM00LSF9",
        "colab": {
          "base_uri": "https://localhost:8080/"
        },
        "outputId": "173789b5-7883-4feb-db40-7aa89b28b67e"
      },
      "execution_count": null,
      "outputs": [
        {
          "output_type": "stream",
          "name": "stdout",
          "text": [
            "Matriz [[1 2 3]\n",
            " [4 5 6]]\n"
          ]
        }
      ]
    },
    {
      "cell_type": "code",
      "source": [
        "print('Elemento na linha 1, coluna 2:', matriz[1,2])# acessando elementos"
      ],
      "metadata": {
        "colab": {
          "base_uri": "https://localhost:8080/"
        },
        "id": "leE80dokLaTD",
        "outputId": "741d4cbb-89e8-4bcf-9a01-70df755d8219"
      },
      "execution_count": null,
      "outputs": [
        {
          "output_type": "stream",
          "name": "stdout",
          "text": [
            "Elemento na linha 1, coluna 2: 6\n"
          ]
        }
      ]
    },
    {
      "cell_type": "code",
      "source": [
        "print('Soma das colunas', np.sum(matriz, axis=0))  #soma de todas colunas"
      ],
      "metadata": {
        "colab": {
          "base_uri": "https://localhost:8080/"
        },
        "id": "mLhJb5htMS7E",
        "outputId": "9ec862a5-2ac8-4839-da65-bb2be95b2d43"
      },
      "execution_count": null,
      "outputs": [
        {
          "output_type": "stream",
          "name": "stdout",
          "text": [
            "Soma das colunas [5 7 9]\n"
          ]
        }
      ]
    },
    {
      "cell_type": "markdown",
      "source": [
        "###Pandas: Trabalhando com Dados Estruturados- DataFrame"
      ],
      "metadata": {
        "id": "F1qJ45MsMt0j"
      }
    },
    {
      "cell_type": "code",
      "source": [
        "import pandas as pd"
      ],
      "metadata": {
        "id": "BqElStsPM7HC"
      },
      "execution_count": null,
      "outputs": []
    },
    {
      "cell_type": "code",
      "source": [
        "dados = {#cria um DataFrame (tabela) a partir de um dicionário\n",
        "    'Nome': ['João', 'Maria', 'Pedro', 'Ana'],\n",
        "    'Idade': [25, 30, 35, 40],\n",
        "    'Cidade': ['São Paulo', 'Rio de Janeiro', 'Belo Horizonte', 'Porto Alegre']\n",
        "}\n",
        "df= pd.DataFrame(dados)\n",
        "print( df)"
      ],
      "metadata": {
        "colab": {
          "base_uri": "https://localhost:8080/"
        },
        "id": "AUF7hTeYNYeI",
        "outputId": "4573fa1f-4fce-4fb0-ecd1-e9616e562d44"
      },
      "execution_count": null,
      "outputs": [
        {
          "output_type": "stream",
          "name": "stdout",
          "text": [
            "    Nome  Idade          Cidade\n",
            "0   João     25       São Paulo\n",
            "1  Maria     30  Rio de Janeiro\n",
            "2  Pedro     35  Belo Horizonte\n",
            "3    Ana     40    Porto Alegre\n"
          ]
        }
      ]
    },
    {
      "cell_type": "code",
      "source": [
        "print('Coluna Nome:', df['Nome']) #acessando uma coluna"
      ],
      "metadata": {
        "colab": {
          "base_uri": "https://localhost:8080/"
        },
        "id": "XIwha45PfYfF",
        "outputId": "5b460dee-1ee9-461c-9f93-97113c4e44f1"
      },
      "execution_count": null,
      "outputs": [
        {
          "output_type": "stream",
          "name": "stdout",
          "text": [
            "Coluna Nome: 0     João\n",
            "1    Maria\n",
            "2    Pedro\n",
            "3      Ana\n",
            "Name: Nome, dtype: object\n"
          ]
        }
      ]
    },
    {
      "cell_type": "code",
      "source": [
        "print('1a linha:', df.iloc[0]) #acessando uma linha, iloc= indice numérico"
      ],
      "metadata": {
        "colab": {
          "base_uri": "https://localhost:8080/"
        },
        "id": "rqySTIUOf5iq",
        "outputId": "6631cce5-57b9-4b03-89d0-94b2f8e34e6f"
      },
      "execution_count": null,
      "outputs": [
        {
          "output_type": "stream",
          "name": "stdout",
          "text": [
            "1a linha: Nome           João\n",
            "Idade            25\n",
            "Cidade    São Paulo\n",
            "Name: 0, dtype: object\n"
          ]
        }
      ]
    },
    {
      "cell_type": "code",
      "source": [
        "print('Idade da Maria:', df.loc[1, 'Idade']) #acessando um elemento específico"
      ],
      "metadata": {
        "colab": {
          "base_uri": "https://localhost:8080/"
        },
        "id": "UnZvHm_7gTy-",
        "outputId": "22c52fa4-7027-4c73-c0b9-86bb9a85967a"
      },
      "execution_count": null,
      "outputs": [
        {
          "output_type": "stream",
          "name": "stdout",
          "text": [
            "Idade da Maria: 30\n"
          ]
        }
      ]
    },
    {
      "cell_type": "markdown",
      "source": [
        "###Filtrando Dados"
      ],
      "metadata": {
        "id": "qpvMqbgpggFh"
      }
    },
    {
      "cell_type": "code",
      "source": [
        "filtro= df[df['Idade']>23] #filtrando dados\n",
        "print('Pessoas com mais de 23 anos:' ,filtro)"
      ],
      "metadata": {
        "colab": {
          "base_uri": "https://localhost:8080/"
        },
        "id": "c7z7iBfvgkig",
        "outputId": "e405318f-b8b6-4119-fc4c-69aaf5bef6e0"
      },
      "execution_count": null,
      "outputs": [
        {
          "output_type": "stream",
          "name": "stdout",
          "text": [
            "Pessoas com mais de 23 anos:     Nome  Idade          Cidade\n",
            "0   João     25       São Paulo\n",
            "1  Maria     30  Rio de Janeiro\n",
            "2  Pedro     35  Belo Horizonte\n",
            "3    Ana     40    Porto Alegre\n"
          ]
        }
      ]
    },
    {
      "cell_type": "code",
      "source": [
        "df['Profissão']= ['Engenheiro', 'Médico', 'Engenheiro','Estudante']\n",
        "print(df)"
      ],
      "metadata": {
        "colab": {
          "base_uri": "https://localhost:8080/"
        },
        "id": "jPMnEcVphBFk",
        "outputId": "bf67cce3-5b25-4f1a-82aa-8efcbdb1985d"
      },
      "execution_count": null,
      "outputs": [
        {
          "output_type": "stream",
          "name": "stdout",
          "text": [
            "    Nome  Idade          Cidade   Profissão\n",
            "0   João     25       São Paulo  Engenheiro\n",
            "1  Maria     30  Rio de Janeiro      Médico\n",
            "2  Pedro     35  Belo Horizonte  Engenheiro\n",
            "3    Ana     40    Porto Alegre   Estudante\n"
          ]
        }
      ]
    },
    {
      "cell_type": "markdown",
      "source": [
        "####Para excluir: df=df.drops(columns=['Cidade'])"
      ],
      "metadata": {
        "id": "V-ohtKEOhu4j"
      }
    },
    {
      "cell_type": "markdown",
      "source": [
        "##Combinando NumPy e Pandas"
      ],
      "metadata": {
        "id": "B10_jJLwiQ0C"
      }
    },
    {
      "cell_type": "code",
      "source": [
        "df['Idade x 2']= np.array(df['Idade']) * 2  #Criando uma nova coluna com a idade multiplicada por 2\n",
        "print(df)"
      ],
      "metadata": {
        "colab": {
          "base_uri": "https://localhost:8080/"
        },
        "id": "3ZHYqAzYhtzb",
        "outputId": "18c307b3-aa2a-4a8c-d286-c2b1da977e5f"
      },
      "execution_count": null,
      "outputs": [
        {
          "output_type": "stream",
          "name": "stdout",
          "text": [
            "    Nome  Idade          Cidade   Profissão  Idade x 2\n",
            "0   João     25       São Paulo  Engenheiro         50\n",
            "1  Maria     30  Rio de Janeiro      Médico         60\n",
            "2  Pedro     35  Belo Horizonte  Engenheiro         70\n",
            "3    Ana     40    Porto Alegre   Estudante         80\n"
          ]
        }
      ]
    },
    {
      "cell_type": "code",
      "source": [
        "data = {\n",
        "    'Nome': ['Carrinho Pilha', 'Boneca', 'Skate', 'Bola'],\n",
        "    'Preço': [36, 65, 160, 40],\n",
        "    'Quantidade': [15, 18, 36, 28]\n",
        "}\n",
        "tb= pd.DataFrame(data)\n",
        "print( tb)"
      ],
      "metadata": {
        "colab": {
          "base_uri": "https://localhost:8080/"
        },
        "id": "NciEYwDcjH_B",
        "outputId": "457f0d20-a678-4585-8367-81e5cfbebdc3"
      },
      "execution_count": null,
      "outputs": [
        {
          "output_type": "stream",
          "name": "stdout",
          "text": [
            "             Nome  Preço  Quantidade\n",
            "0  Carrinho Pilha     36          15\n",
            "1          Boneca     65          18\n",
            "2           Skate    160          36\n",
            "3            Bola     40          28\n"
          ]
        }
      ]
    },
    {
      "cell_type": "code",
      "source": [
        "filtro= tb[tb['Preço']>50] #filtrando dados\n",
        "print(filtro)"
      ],
      "metadata": {
        "colab": {
          "base_uri": "https://localhost:8080/"
        },
        "id": "kOlllGnhkWHB",
        "outputId": "d89ff3cc-60d7-460e-94ca-27d48571fd35"
      },
      "execution_count": null,
      "outputs": [
        {
          "output_type": "stream",
          "name": "stdout",
          "text": [
            "     Nome  Preço  Quantidade\n",
            "1  Boneca     65          18\n",
            "2   Skate    160          36\n"
          ]
        }
      ]
    },
    {
      "cell_type": "code",
      "source": [],
      "metadata": {
        "id": "-XpraIZAp5Jn"
      },
      "execution_count": null,
      "outputs": []
    },
    {
      "cell_type": "code",
      "source": [
        "tb['Preço x Qntde']= np.array(tb['Preço']) * (tb['Quantidade'])\n",
        "print(tb)"
      ],
      "metadata": {
        "colab": {
          "base_uri": "https://localhost:8080/"
        },
        "id": "k0zYpzACkoNo",
        "outputId": "981f504d-8147-4071-c521-9e38b0bfcc8d"
      },
      "execution_count": null,
      "outputs": [
        {
          "output_type": "stream",
          "name": "stdout",
          "text": [
            "             Nome  Preço  Quantidade  Preço x Qntde\n",
            "0  Carrinho Pilha     36          15            540\n",
            "1          Boneca     65          18           1170\n",
            "2           Skate    160          36           5760\n",
            "3            Bola     40          28           1120\n"
          ]
        }
      ]
    },
    {
      "cell_type": "markdown",
      "source": [
        "##Agregação de Dados com Pandas- groupby()"
      ],
      "metadata": {
        "id": "vwu6740hVf-W"
      }
    },
    {
      "cell_type": "code",
      "source": [
        "import pandas as pd"
      ],
      "metadata": {
        "id": "tn-iejVmVrR1"
      },
      "execution_count": null,
      "outputs": []
    },
    {
      "cell_type": "code",
      "source": [
        "dados= {\n",
        "    \"Produto\": [\"Carrinho\", \"Boneca\", \"Skate\", \"Skate\", \"Boneca\", \"Carrinho\"],\n",
        "    \"Vendedor\": [\"Ana\", \"Ana\", \"Joao\", \"Ana\", \"Ana\", \"Joao\"],\n",
        "    \"Quantidade\": [10, 5, 8, 3, 9, 10],\n",
        "    \"Preço\": [20, 30, 100, 100, 30, 20]\n",
        "}\n",
        "vendas= pd.DataFrame(dados)\n",
        "print(vendas)"
      ],
      "metadata": {
        "colab": {
          "base_uri": "https://localhost:8080/"
        },
        "id": "pcGHkLWmVyTY",
        "outputId": "f48848de-f8ed-4044-cfa1-f8c476a25079"
      },
      "execution_count": null,
      "outputs": [
        {
          "output_type": "stream",
          "name": "stdout",
          "text": [
            "    Produto Vendedor  Quantidade  Preço\n",
            "0  Carrinho      Ana          10     20\n",
            "1    Boneca      Ana           5     30\n",
            "2     Skate     Joao           8    100\n",
            "3     Skate      Ana           3    100\n",
            "4    Boneca      Ana           9     30\n",
            "5  Carrinho     Joao          10     20\n"
          ]
        }
      ]
    },
    {
      "cell_type": "code",
      "source": [
        "agrupado= vendas.groupby(\"Produto\") [\"Quantidade\"].sum() #agrupando os dados de produtos e calculando a quantidade total\n",
        "print(agrupado)"
      ],
      "metadata": {
        "colab": {
          "base_uri": "https://localhost:8080/"
        },
        "id": "ujkQGntsYKAm",
        "outputId": "85f719a4-525c-4f6a-b2ea-44c602bc8f13"
      },
      "execution_count": null,
      "outputs": [
        {
          "output_type": "stream",
          "name": "stdout",
          "text": [
            "Produto\n",
            "Boneca      14\n",
            "Carrinho    20\n",
            "Skate       11\n",
            "Name: Quantidade, dtype: int64\n"
          ]
        }
      ]
    },
    {
      "cell_type": "markdown",
      "source": [
        "###Agrupando múltiplas colunas"
      ],
      "metadata": {
        "id": "BZh0nFEMYwoe"
      }
    },
    {
      "cell_type": "code",
      "source": [
        "agrupado= vendas.groupby([\"Vendedor\", \"Produto\"])[\"Preço\"].mean() #agrupando colunas para tirar a média\n",
        "print(agrupado)\n"
      ],
      "metadata": {
        "colab": {
          "base_uri": "https://localhost:8080/"
        },
        "id": "gCmFSWxXY2qS",
        "outputId": "293f01e3-22e6-4169-c055-768afcebce31"
      },
      "execution_count": null,
      "outputs": [
        {
          "output_type": "stream",
          "name": "stdout",
          "text": [
            "Vendedor  Produto \n",
            "Ana       Boneca       30.0\n",
            "          Carrinho     20.0\n",
            "          Skate       100.0\n",
            "Joao      Carrinho     20.0\n",
            "          Skate       100.0\n",
            "Name: Preço, dtype: float64\n"
          ]
        }
      ]
    },
    {
      "cell_type": "markdown",
      "source": [
        "#Visualização de Dados com Matplotlib e Seaborn"
      ],
      "metadata": {
        "id": "i6V3auMJZfdu"
      }
    },
    {
      "cell_type": "code",
      "source": [
        "import matplotlib.pyplot  as plt\n",
        "import seaborn as sns"
      ],
      "metadata": {
        "id": "7hPYyszhYuTp"
      },
      "execution_count": null,
      "outputs": []
    },
    {
      "cell_type": "code",
      "source": [
        "agrupado= vendas.groupby (\"Produto\") [\"Quantidade\"].sum() #agrupando os dados\n",
        "\n",
        "agrupado.plot(kind= \"bar\", color=\"skyblue\") #criando um gráfico de barras\n",
        "plt.title(\"Quantidade Vendida por Produto\")\n",
        "plt.xlabel(\"Produto\")\n",
        "plt.ylabel(\"Quantidade Total\")\n",
        "plt.show()"
      ],
      "metadata": {
        "colab": {
          "base_uri": "https://localhost:8080/",
          "height": 517
        },
        "id": "OvMl9YFraPEk",
        "outputId": "d349539f-5ba2-4afb-9759-9d84dfb76f1c"
      },
      "execution_count": null,
      "outputs": [
        {
          "output_type": "display_data",
          "data": {
            "text/plain": [
              "<Figure size 640x480 with 1 Axes>"
            ],
            "image/png": "[encoded data removed]"
          },
          "metadata": {}
        }
      ]
    },
    {
      "cell_type": "code",
      "source": [],
      "metadata": {
        "id": "bfhe1-MJbJv-"
      },
      "execution_count": null,
      "outputs": []
    },
    {
      "cell_type": "code",
      "source": [
        "sns.scatterplot(x= \"Quantidade\", y= \"Preço\", hue= \"Produto\", data= vendas, s=100) #criando um gráfico de dispersão\n",
        "plt.title(\"Relação entre Quantidade e Preço por Produto\")\n",
        "plt.show()"
      ],
      "metadata": {
        "colab": {
          "base_uri": "https://localhost:8080/",
          "height": 472
        },
        "id": "mYTuWCMBaPoa",
        "outputId": "699a1597-b2e2-46a3-aac4-5076ba23e098"
      },
      "execution_count": null,
      "outputs": [
        {
          "output_type": "display_data",
          "data": {
            "text/plain": [
              "<Figure size 640x480 with 1 Axes>"
            ],
            "image/png": "[encoded data removed]"
          },
          "metadata": {}
        }
      ]
    },
    {
      "cell_type": "markdown",
      "source": [
        "##Limpeza de Dados"
      ],
      "metadata": {
        "id": "frtm_SVFb4cw"
      }
    },
    {
      "cell_type": "markdown",
      "source": [
        "Pandas oferece ferramentas para llidar com valores faltantes, duplicados ou inconsistentes"
      ],
      "metadata": {
        "id": "pkiqXQ0Hb-hq"
      }
    },
    {
      "cell_type": "code",
      "source": [
        "vendas.loc[2, \"Quantidade\"]= None #adicionando um valor faltante\n",
        "vendas.loc[4, \"Preço\"]= None\n",
        "print(vendas)"
      ],
      "metadata": {
        "colab": {
          "base_uri": "https://localhost:8080/"
        },
        "id": "Mqsy9OOsb3rx",
        "outputId": "2bafa78f-0046-433a-8785-cd25ba023611"
      },
      "execution_count": null,
      "outputs": [
        {
          "output_type": "stream",
          "name": "stdout",
          "text": [
            "    Produto Vendedor  Quantidade  Preço\n",
            "0  Carrinho      Ana        10.0   20.0\n",
            "1    Boneca      Ana         5.0   30.0\n",
            "2     Skate     Joao         NaN  100.0\n",
            "3     Skate      Ana         3.0  100.0\n",
            "4    Boneca      Ana         9.0    NaN\n",
            "5  Carrinho     Joao        10.0   20.0\n"
          ]
        }
      ]
    },
    {
      "cell_type": "code",
      "source": [
        "vendas_limpas= vendas.dropna() #removendo linhas com valores faltantes\n",
        "print(vendas_limpas)"
      ],
      "metadata": {
        "colab": {
          "base_uri": "https://localhost:8080/"
        },
        "id": "0Ex3b0OwcaAo",
        "outputId": "0ca413e5-0266-4adb-a482-7eac1eb32fe2"
      },
      "execution_count": null,
      "outputs": [
        {
          "output_type": "stream",
          "name": "stdout",
          "text": [
            "    Produto Vendedor  Quantidade  Preço\n",
            "0  Carrinho      Ana        10.0   20.0\n",
            "1    Boneca      Ana         5.0   30.0\n",
            "3     Skate      Ana         3.0  100.0\n",
            "5  Carrinho     Joao        10.0   20.0\n"
          ]
        }
      ]
    },
    {
      "cell_type": "markdown",
      "source": [
        "Preenchendo valores faltantes"
      ],
      "metadata": {
        "id": "YLAVTCl5kSSF"
      }
    },
    {
      "cell_type": "code",
      "source": [
        "vendas_preenchidas= vendas.fillna(0) #preenchendo valores faltantes com 0\n",
        "print(vendas_preenchidas)"
      ],
      "metadata": {
        "colab": {
          "base_uri": "https://localhost:8080/"
        },
        "id": "fI-ccOq9kRTH",
        "outputId": "23c01408-611f-416e-ee95-013bbf28e995"
      },
      "execution_count": null,
      "outputs": [
        {
          "output_type": "stream",
          "name": "stdout",
          "text": [
            "    Produto Vendedor  Quantidade  Preço\n",
            "0  Carrinho      Ana        10.0   20.0\n",
            "1    Boneca      Ana         5.0   30.0\n",
            "2     Skate     Joao         0.0  100.0\n",
            "3     Skate      Ana         3.0  100.0\n",
            "4    Boneca      Ana         9.0    0.0\n",
            "5  Carrinho     Joao        10.0   20.0\n"
          ]
        }
      ]
    },
    {
      "cell_type": "markdown",
      "source": [
        "Removendo Duplicatas"
      ],
      "metadata": {
        "id": "LsMRPlKBksbR"
      }
    },
    {
      "cell_type": "code",
      "source": [
        "vendas = pd.concat([vendas, vendas.iloc[[1]]], ignore_index=True) # adicionando linha duplicada\n",
        "print(vendas)"
      ],
      "metadata": {
        "colab": {
          "base_uri": "https://localhost:8080/"
        },
        "id": "fsYnstgnmfn5",
        "outputId": "b999cf75-3706-49fa-8f61-ca8973ddbc49"
      },
      "execution_count": null,
      "outputs": [
        {
          "output_type": "stream",
          "name": "stdout",
          "text": [
            "    Produto Vendedor  Quantidade  Preço\n",
            "0  Carrinho      Ana        10.0   20.0\n",
            "1    Boneca      Ana         5.0   30.0\n",
            "2     Skate     Joao         NaN  100.0\n",
            "3     Skate      Ana         3.0  100.0\n",
            "4    Boneca      Ana         9.0    NaN\n",
            "5  Carrinho     Joao        10.0   20.0\n",
            "6    Boneca      Ana         5.0   30.0\n"
          ]
        }
      ]
    },
    {
      "cell_type": "code",
      "source": [
        "vendas_sem_duplicatas= vendas.drop_duplicates() #removendo duplicatas\n",
        "print(vendas_sem_duplicatas)"
      ],
      "metadata": {
        "colab": {
          "base_uri": "https://localhost:8080/"
        },
        "id": "XPKLEDuYoBG2",
        "outputId": "4a70c1fd-aeea-4072-89cf-f1f6d14c1527"
      },
      "execution_count": null,
      "outputs": [
        {
          "output_type": "stream",
          "name": "stdout",
          "text": [
            "    Produto Vendedor  Quantidade  Preço\n",
            "0  Carrinho      Ana        10.0   20.0\n",
            "1    Boneca      Ana         5.0   30.0\n",
            "2     Skate     Joao         NaN  100.0\n",
            "3     Skate      Ana         3.0  100.0\n",
            "4    Boneca      Ana         9.0    NaN\n",
            "5  Carrinho     Joao        10.0   20.0\n"
          ]
        }
      ]
    },
    {
      "cell_type": "markdown",
      "source": [
        "##Trabalhando com Datas"
      ],
      "metadata": {
        "id": "FUqXVQzpoMsI"
      }
    },
    {
      "cell_type": "markdown",
      "source": [
        "Criando colunas com data"
      ],
      "metadata": {
        "id": "TFFKkIP5r3vF"
      }
    },
    {
      "cell_type": "code",
      "source": [
        "vendas['Datas'] = pd.date_range(start='2025-01-01', periods=len(vendas), freq='D') #adicionando coluna Data\n",
        "print(vendas)"
      ],
      "metadata": {
        "colab": {
          "base_uri": "https://localhost:8080/"
        },
        "id": "uw1sTkGsoQRP",
        "outputId": "6274e282-70c6-4794-c001-a7260565b2af"
      },
      "execution_count": null,
      "outputs": [
        {
          "output_type": "stream",
          "name": "stdout",
          "text": [
            "    Produto Vendedor  Quantidade  Preço      Datas\n",
            "0  Carrinho      Ana        10.0   20.0 2025-01-01\n",
            "1    Boneca      Ana         5.0   30.0 2025-01-02\n",
            "2     Skate     Joao         NaN  100.0 2025-01-03\n",
            "3     Skate      Ana         3.0  100.0 2025-01-04\n",
            "4    Boneca      Ana         9.0    NaN 2025-01-05\n",
            "5  Carrinho     Joao        10.0   20.0 2025-01-06\n",
            "6    Boneca      Ana         5.0   30.0 2025-01-07\n"
          ]
        }
      ]
    },
    {
      "cell_type": "code",
      "source": [],
      "metadata": {
        "id": "gUeQhwfGszYc"
      },
      "execution_count": null,
      "outputs": []
    }
  ]
}